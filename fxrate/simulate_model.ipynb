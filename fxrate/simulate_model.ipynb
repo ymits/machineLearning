{
 "cells": [
  {
   "cell_type": "code",
   "execution_count": 1,
   "metadata": {},
   "outputs": [
    {
     "name": "stderr",
     "output_type": "stream",
     "text": [
      "/Users/mitsuiyasuyuki/.pyenv/versions/machineLearning/lib/python3.6/site-packages/h5py/__init__.py:36: FutureWarning: Conversion of the second argument of issubdtype from `float` to `np.floating` is deprecated. In future, it will be treated as `np.float64 == np.dtype(float).type`.\n",
      "  from ._conv import register_converters as _register_converters\n",
      "Using TensorFlow backend.\n"
     ]
    }
   ],
   "source": [
    "import keras\n",
    "from keras.models import model_from_json\n",
    "import bars\n",
    "from matplotlib import pyplot as plt\n",
    "import numpy as np\n",
    "import os.path"
   ]
  },
  {
   "cell_type": "code",
   "execution_count": 2,
   "metadata": {},
   "outputs": [],
   "source": [
    "from enum import Enum\n",
    "class BuySellType(Enum):\n",
    "    BUY = 1\n",
    "    SELL = 2"
   ]
  },
  {
   "cell_type": "code",
   "execution_count": 3,
   "metadata": {},
   "outputs": [],
   "source": [
    "class Trade:\n",
    "    def __init__(self, id, time, symbolCode, buySellType, volume, price, isClose, closePositionId, pl):\n",
    "        # ID\n",
    "        self.id = id;\n",
    "        # 取引時刻\n",
    "        self.time = time;\n",
    "        # 取引銘柄コード\n",
    "        self.symbolCode = symbolCode;\n",
    "        # 売買区分\n",
    "        self.buySellType = buySellType;\n",
    "        # 取引数量\n",
    "        self.volume = volume;\n",
    "        # 取引価格\n",
    "        self.price = price;\n",
    "        # 決済取引Frag\n",
    "        self.isClose = isClose;\n",
    "        # 決済対象建玉\n",
    "        self.closePositionId = closePositionId;\n",
    "        # 決済損益\n",
    "        self.pl = pl;"
   ]
  },
  {
   "cell_type": "code",
   "execution_count": 4,
   "metadata": {},
   "outputs": [],
   "source": [
    "class Position:\n",
    "    def __init__(self, trade):\n",
    "        # ID\n",
    "        self.id = trade.id;\n",
    "        # 取引時刻\n",
    "        self.time = trade.time;\n",
    "        # 取引銘柄コード\n",
    "        self.symbolCode = trade.symbolCode;\n",
    "        # 売買区分\n",
    "        self.buySellType = trade.buySellType;\n",
    "        # 取引数量\n",
    "        self.volume = trade.volume;\n",
    "        # 取引価格\n",
    "        self.price = trade.price;\n",
    "        "
   ]
  },
  {
   "cell_type": "code",
   "execution_count": 5,
   "metadata": {},
   "outputs": [],
   "source": [
    "spreads = 0.005\n",
    "class TradeSimulation:\n",
    "    def __init__(self):\n",
    "        self.trades = []\n",
    "        self.positions = []\n",
    "        self.asset = 0\n",
    "        self.asset_hist = [0]\n",
    "        \n",
    "    def new_trade(self, buySellType, volume, price):\n",
    "        trade = Trade(None, None, None, buySellType, volume, price, False, None, None)\n",
    "        position = Position(trade)\n",
    "        self.trades.append(trade)\n",
    "        self.positions.append(position)\n",
    "        \n",
    "    def close_trade(self, buySellType, volume, price):\n",
    "        target_type = BuySellType.SELL\n",
    "        if buySellType == BuySellType.SELL:\n",
    "            target_type = BuySellType.BUY\n",
    "        \n",
    "        close_pl = 0\n",
    "        while volume > 0 :\n",
    "            close_position = [position for position in self.positions if position.buySellType == target_type][0]\n",
    "            self.positions.remove(close_position)\n",
    "            close_volume = min(volume, close_position.volume)\n",
    "            if buySellType == BuySellType.SELL:\n",
    "                close_pl += (price - close_position.price - spreads) * close_volume\n",
    "            else :\n",
    "                close_pl += (close_position.price - price - spreads) * close_volume\n",
    "            \n",
    "            volume -= close_volume\n",
    "        \n",
    "        trade = Trade(None, None, None, buySellType, volume, price, True, None, close_pl)\n",
    "        self.trades.append(trade)\n",
    "        \n",
    "        self.asset_hist.append(self.asset + close_pl)\n",
    "        self.asset += close_pl\n",
    "    \n",
    "    def close_all(self, buySellType, price):\n",
    "        target_type = BuySellType.SELL\n",
    "        if buySellType == BuySellType.SELL:\n",
    "            target_type = BuySellType.BUY\n",
    "            \n",
    "        volume = 0\n",
    "        for close_position in [position for position in self.positions if position.buySellType == target_type]:\n",
    "            volume += close_position.volume\n",
    "            \n",
    "        self.close_trade(buySellType, volume, price)"
   ]
  },
  {
   "cell_type": "code",
   "execution_count": 10,
   "metadata": {},
   "outputs": [],
   "source": [
    "class TradeRule:\n",
    "    def __init__(self):\n",
    "        f_model = './model'\n",
    "        model_name = 'ma_30m_cnn_model_1.json'\n",
    "        weight_name = 'ma_30m_cnn_weight_1.hdf5'\n",
    "        \n",
    "        json_string = open(os.path.join(f_model, model_name)).read()\n",
    "        self.model = model_from_json(json_string)\n",
    "        self.model.load_weights(os.path.join(f_model,weight_name))\n",
    "        \n",
    "    def predict(self, test):\n",
    "        self.pred_data = self.model.predict(test)\n",
    "        \n",
    "    def new_buy_trade(self, positions):\n",
    "        if self.pred_data[0][0] < 0.45 or self.pred_data[0][0] < self.pred_data[0][1]:\n",
    "            return False\n",
    "        \n",
    "        if self.pred_data[0][0] < 0.50:\n",
    "            return len([p for p in positions if p.buySellType == BuySellType.BUY]) < 1 \n",
    "        \n",
    "        if self.pred_data[0][0] < 0.55:\n",
    "            return len([p for p in positions if p.buySellType == BuySellType.BUY]) < 2 \n",
    "        \n",
    "        if self.pred_data[0][0] < 0.60:\n",
    "            return len([p for p in positions if p.buySellType == BuySellType.BUY]) < 3 \n",
    "        \n",
    "        return len([p for p in positions if p.buySellType == BuySellType.BUY]) < 10\n",
    "    \n",
    "    def new_sell_trade(self, positions):\n",
    "        if self.pred_data[0][1] < 0.45 or self.pred_data[0][0] > self.pred_data[0][1]:\n",
    "            return False\n",
    "        \n",
    "        if self.pred_data[0][1] < 0.50:\n",
    "            return len([p for p in positions if p.buySellType == BuySellType.SELL]) < 1 \n",
    "        \n",
    "        if self.pred_data[0][1] < 0.55:\n",
    "            return len([p for p in positions if p.buySellType == BuySellType.SELL]) < 2 \n",
    "        \n",
    "        if self.pred_data[0][1] < 0.60:\n",
    "            return len([p for p in positions if p.buySellType == BuySellType.SELL]) < 3 \n",
    "        \n",
    "        return len([p for p in positions if p.buySellType == BuySellType.SELL]) < 10\n",
    "    \n",
    "    def close_buy_trade(self, positions):\n",
    "        if len([p for p in positions if p.buySellType == BuySellType.SELL]) == 0 :\n",
    "            return False\n",
    "        \n",
    "        return self.pred_data[0][0] > self.pred_data[0][1] \n",
    "    \n",
    "    def close_sell_trade(self, positions):\n",
    "        if len([p for p in positions if p.buySellType == BuySellType.BUY]) == 0 :\n",
    "            return False\n",
    "        \n",
    "        return self.pred_data[0][0] < self.pred_data[0][1] "
   ]
  },
  {
   "cell_type": "code",
   "execution_count": 11,
   "metadata": {},
   "outputs": [],
   "source": [
    "rows = 10\n",
    "cols = 14\n",
    "\n",
    "(x_base, y_base),(x_test, y_test)= bars.load_bars(rows, normalize=False)\n",
    "x_test = x_base.reshape(x_base.shape[0], rows, cols, 1)\n",
    "#x_test = x_base[train_size:]\n",
    "#x_test = x_base\n"
   ]
  },
  {
   "cell_type": "code",
   "execution_count": 14,
   "metadata": {},
   "outputs": [
    {
     "name": "stdout",
     "output_type": "stream",
     "text": [
      "18465\n"
     ]
    }
   ],
   "source": [
    "simulator = TradeSimulation()\n",
    "rule = TradeRule()\n",
    "\n",
    "for i in range(len(x_test)):\n",
    "    if i == 0:\n",
    "        continue\n",
    "        \n",
    "    test = x_test[i-1]\n",
    "    price = x_test[i][-1][3]\n",
    "    test = test - np.amin(test)\n",
    "    test = test / np.amax(test)\n",
    "    rule.predict(test.reshape(1, rows, cols, 1))\n",
    "    \n",
    "    if rule.close_buy_trade(simulator.positions):\n",
    "        simulator.close_all(BuySellType.BUY, price)\n",
    "        \n",
    "    if rule.close_sell_trade(simulator.positions):\n",
    "        simulator.close_all(BuySellType.SELL, price)\n",
    "        \n",
    "    if rule.new_buy_trade(simulator.positions):\n",
    "        simulator.new_trade(BuySellType.BUY, 1, price)\n",
    "        \n",
    "    if rule.new_sell_trade(simulator.positions):\n",
    "        simulator.new_trade(BuySellType.SELL, 1, price)\n",
    "        \n",
    "    \n",
    "    \n",
    "print(len(simulator.trades))"
   ]
  },
  {
   "cell_type": "code",
   "execution_count": 13,
   "metadata": {},
   "outputs": [
    {
     "name": "stdout",
     "output_type": "stream",
     "text": [
      "[4707.67]\n"
     ]
    }
   ],
   "source": [
    "pl = 0\n",
    "for t in [t for t in simulator.trades if t.isClose]:\n",
    "    pl += t.pl\n",
    "print(pl)"
   ]
  },
  {
   "cell_type": "code",
   "execution_count": 30,
   "metadata": {},
   "outputs": [
    {
     "data": {
      "image/png": "[encoded data removed]",
      "text/plain": [
       "<matplotlib.figure.Figure at 0x1173eccf8>"
      ]
     },
     "metadata": {},
     "output_type": "display_data"
    }
   ],
   "source": [
    "plt.plot(simulator.asset_hist,label=\"asset history\")\n",
    "plt.show()"
   ]
  },
  {
   "cell_type": "code",
   "execution_count": null,
   "metadata": {},
   "outputs": [],
   "source": []
  }
 ],
 "metadata": {
  "kernelspec": {
   "display_name": "python ML",
   "language": "python",
   "name": "python-ml"
  },
  "language_info": {
   "codemirror_mode": {
    "name": "ipython",
    "version": 3
   },
   "file_extension": ".py",
   "mimetype": "text/x-python",
   "name": "python",
   "nbconvert_exporter": "python",
   "pygments_lexer": "ipython3",
   "version": "3.6.4"
  }
 },
 "nbformat": 4,
 "nbformat_minor": 2
}
